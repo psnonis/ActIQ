{
 "cells": [
  {
   "cell_type": "code",
   "execution_count": 1,
   "metadata": {},
   "outputs": [
    {
     "name": "stderr",
     "output_type": "stream",
     "text": [
      "/opt/conda/envs/rapids/lib/python3.7/site-packages/tensorflow/python/framework/dtypes.py:516: FutureWarning: Passing (type, 1) or '1type' as a synonym of type is deprecated; in a future version of numpy, it will be understood as (type, (1,)) / '(1,)type'.\n",
      "  _np_qint8 = np.dtype([(\"qint8\", np.int8, 1)])\n",
      "/opt/conda/envs/rapids/lib/python3.7/site-packages/tensorflow/python/framework/dtypes.py:517: FutureWarning: Passing (type, 1) or '1type' as a synonym of type is deprecated; in a future version of numpy, it will be understood as (type, (1,)) / '(1,)type'.\n",
      "  _np_quint8 = np.dtype([(\"quint8\", np.uint8, 1)])\n",
      "/opt/conda/envs/rapids/lib/python3.7/site-packages/tensorflow/python/framework/dtypes.py:518: FutureWarning: Passing (type, 1) or '1type' as a synonym of type is deprecated; in a future version of numpy, it will be understood as (type, (1,)) / '(1,)type'.\n",
      "  _np_qint16 = np.dtype([(\"qint16\", np.int16, 1)])\n",
      "/opt/conda/envs/rapids/lib/python3.7/site-packages/tensorflow/python/framework/dtypes.py:519: FutureWarning: Passing (type, 1) or '1type' as a synonym of type is deprecated; in a future version of numpy, it will be understood as (type, (1,)) / '(1,)type'.\n",
      "  _np_quint16 = np.dtype([(\"quint16\", np.uint16, 1)])\n",
      "/opt/conda/envs/rapids/lib/python3.7/site-packages/tensorflow/python/framework/dtypes.py:520: FutureWarning: Passing (type, 1) or '1type' as a synonym of type is deprecated; in a future version of numpy, it will be understood as (type, (1,)) / '(1,)type'.\n",
      "  _np_qint32 = np.dtype([(\"qint32\", np.int32, 1)])\n",
      "/opt/conda/envs/rapids/lib/python3.7/site-packages/tensorflow/python/framework/dtypes.py:525: FutureWarning: Passing (type, 1) or '1type' as a synonym of type is deprecated; in a future version of numpy, it will be understood as (type, (1,)) / '(1,)type'.\n",
      "  np_resource = np.dtype([(\"resource\", np.ubyte, 1)])\n",
      "/opt/conda/envs/rapids/lib/python3.7/site-packages/tensorboard/compat/tensorflow_stub/dtypes.py:541: FutureWarning: Passing (type, 1) or '1type' as a synonym of type is deprecated; in a future version of numpy, it will be understood as (type, (1,)) / '(1,)type'.\n",
      "  _np_qint8 = np.dtype([(\"qint8\", np.int8, 1)])\n",
      "/opt/conda/envs/rapids/lib/python3.7/site-packages/tensorboard/compat/tensorflow_stub/dtypes.py:542: FutureWarning: Passing (type, 1) or '1type' as a synonym of type is deprecated; in a future version of numpy, it will be understood as (type, (1,)) / '(1,)type'.\n",
      "  _np_quint8 = np.dtype([(\"quint8\", np.uint8, 1)])\n",
      "/opt/conda/envs/rapids/lib/python3.7/site-packages/tensorboard/compat/tensorflow_stub/dtypes.py:543: FutureWarning: Passing (type, 1) or '1type' as a synonym of type is deprecated; in a future version of numpy, it will be understood as (type, (1,)) / '(1,)type'.\n",
      "  _np_qint16 = np.dtype([(\"qint16\", np.int16, 1)])\n",
      "/opt/conda/envs/rapids/lib/python3.7/site-packages/tensorboard/compat/tensorflow_stub/dtypes.py:544: FutureWarning: Passing (type, 1) or '1type' as a synonym of type is deprecated; in a future version of numpy, it will be understood as (type, (1,)) / '(1,)type'.\n",
      "  _np_quint16 = np.dtype([(\"quint16\", np.uint16, 1)])\n",
      "/opt/conda/envs/rapids/lib/python3.7/site-packages/tensorboard/compat/tensorflow_stub/dtypes.py:545: FutureWarning: Passing (type, 1) or '1type' as a synonym of type is deprecated; in a future version of numpy, it will be understood as (type, (1,)) / '(1,)type'.\n",
      "  _np_qint32 = np.dtype([(\"qint32\", np.int32, 1)])\n",
      "/opt/conda/envs/rapids/lib/python3.7/site-packages/tensorboard/compat/tensorflow_stub/dtypes.py:550: FutureWarning: Passing (type, 1) or '1type' as a synonym of type is deprecated; in a future version of numpy, it will be understood as (type, (1,)) / '(1,)type'.\n",
      "  np_resource = np.dtype([(\"resource\", np.ubyte, 1)])\n"
     ]
    }
   ],
   "source": [
    "#imports\n",
    "import pandas as pd\n",
    "import numpy as np\n",
    "import tensorflow as tf\n",
    "import os\n",
    "from IPython.display import YouTubeVideo\n",
    "from matplotlib import pyplot as plt\n",
    "%matplotlib inline\n",
    "from sklearn.manifold import TSNE"
   ]
  },
  {
   "cell_type": "markdown",
   "metadata": {},
   "source": [
    "## Frame data\n",
    "Explore one sample tfrecord"
   ]
  },
  {
   "cell_type": "code",
   "execution_count": 11,
   "metadata": {},
   "outputs": [],
   "source": [
    "frame_lvl_record = \"../data/yt8m/2/frame/train/train0001.tfrecord\""
   ]
  },
  {
   "cell_type": "code",
   "execution_count": 12,
   "metadata": {},
   "outputs": [],
   "source": [
    "vid_ids = []\n",
    "labels = []\n",
    "\n",
    "for example in tf.python_io.tf_record_iterator(frame_lvl_record):\n",
    "    tf_example = tf.train.Example.FromString(example)\n",
    "    vid_ids.append(tf_example.features.feature['id']\n",
    "                   .bytes_list.value[0].decode(encoding='UTF-8'))\n",
    "    labels.append(tf_example.features.feature['labels'].int64_list.value)"
   ]
  },
  {
   "cell_type": "code",
   "execution_count": 13,
   "metadata": {},
   "outputs": [
    {
     "name": "stdout",
     "output_type": "stream",
     "text": [
      "Number of videos in this tfrecord:  1004\n",
      "Picking a youtube video id: Cbab\n"
     ]
    }
   ],
   "source": [
    "print('Number of videos in this tfrecord: ',len(vid_ids))\n",
    "print('Picking a youtube video id:',vid_ids[13])"
   ]
  },
  {
   "cell_type": "markdown",
   "metadata": {},
   "source": [
    "Follow link: http://data.yt8m.org/2/j/i/*first2charsOfID*/*FullID*.js\n",
    "to get actual youtube id"
   ]
  },
  {
   "cell_type": "code",
   "execution_count": 14,
   "metadata": {},
   "outputs": [
    {
     "data": {
      "image/jpeg": "[encoded data removed]",
      "text/html": [
       "\n",
       "        <iframe\n",
       "            width=\"400\"\n",
       "            height=\"300\"\n",
       "            src=\"https://www.youtube.com/embed/XQ_8wGlS2BU\"\n",
       "            frameborder=\"0\"\n",
       "            allowfullscreen\n",
       "        ></iframe>\n",
       "        "
      ],
      "text/plain": [
       "<IPython.lib.display.YouTubeVideo at 0x7f958cd24cc0>"
      ]
     },
     "execution_count": 14,
     "metadata": {},
     "output_type": "execute_result"
    }
   ],
   "source": [
    "YouTubeVideo('XQ_8wGlS2BU')"
   ]
  },
  {
   "cell_type": "markdown",
   "metadata": {},
   "source": [
    "Each tfrecord contains ~1000 videos"
   ]
  },
  {
   "cell_type": "code",
   "execution_count": 15,
   "metadata": {},
   "outputs": [],
   "source": [
    "#Read the first video\n",
    "\n",
    "feat_rgb = []\n",
    "feat_audio = []\n",
    "\n",
    "for example in tf.python_io.tf_record_iterator(frame_lvl_record):  \n",
    "    tf_seq_example = tf.train.SequenceExample.FromString(example)\n",
    "    n_frames = len(tf_seq_example.feature_lists.feature_list['audio'].feature)\n",
    "    sess = tf.InteractiveSession()\n",
    "    rgb_frame = []\n",
    "    audio_frame = []\n",
    "    # iterate through frames\n",
    "    for i in range(n_frames):\n",
    "        rgb_frame.append(tf.cast(tf.decode_raw(\n",
    "                tf_seq_example.feature_lists.feature_list['rgb']\n",
    "                  .feature[i].bytes_list.value[0],tf.uint8)\n",
    "                       ,tf.float32).eval())\n",
    "        audio_frame.append(tf.cast(tf.decode_raw(\n",
    "                tf_seq_example.feature_lists.feature_list['audio']\n",
    "                  .feature[i].bytes_list.value[0],tf.uint8)\n",
    "                       ,tf.float32).eval())\n",
    "        \n",
    "        \n",
    "    sess.close()\n",
    "    \n",
    "    feat_audio.append(audio_frame)\n",
    "    feat_rgb.append(rgb_frame)\n",
    "    break"
   ]
  },
  {
   "cell_type": "code",
   "execution_count": 16,
   "metadata": {},
   "outputs": [
    {
     "name": "stdout",
     "output_type": "stream",
     "text": [
      "The first video has 119 frames\n"
     ]
    }
   ],
   "source": [
    "print('The first video has %d frames' %len(feat_rgb[0]))"
   ]
  },
  {
   "cell_type": "code",
   "execution_count": 96,
   "metadata": {},
   "outputs": [
    {
     "data": {
      "text/plain": [
       "1024"
      ]
     },
     "execution_count": 96,
     "metadata": {},
     "output_type": "execute_result"
    }
   ],
   "source": [
    "len(feat_rgb[0][0])"
   ]
  },
  {
   "cell_type": "markdown",
   "metadata": {},
   "source": [
    "## Video Data"
   ]
  },
  {
   "cell_type": "code",
   "execution_count": 56,
   "metadata": {},
   "outputs": [],
   "source": [
    "video_lvl_record = \"../data/yt8m/video/train/train0001.tfrecord\""
   ]
  },
  {
   "cell_type": "code",
   "execution_count": 57,
   "metadata": {},
   "outputs": [],
   "source": [
    "vvid_ids = []\n",
    "vlabels = []\n",
    "\n",
    "for example in tf.python_io.tf_record_iterator(video_lvl_record):\n",
    "    tf_example = tf.train.Example.FromString(example)\n",
    "    vvid_ids.append(tf_example.features.feature['id']\n",
    "                   .bytes_list.value[0].decode(encoding='UTF-8'))\n",
    "    vlabels.append(tf_example.features.feature['labels'].int64_list.value)"
   ]
  },
  {
   "cell_type": "code",
   "execution_count": 58,
   "metadata": {},
   "outputs": [
    {
     "name": "stdout",
     "output_type": "stream",
     "text": [
      "Number of videos in this tfrecord:  1004\n",
      "Picking a youtube video id: 80ab\n"
     ]
    }
   ],
   "source": [
    "print('Number of videos in this tfrecord: ',len(vvid_ids))\n",
    "print('Picking a youtube video id:',vvid_ids[10])"
   ]
  },
  {
   "cell_type": "code",
   "execution_count": 59,
   "metadata": {},
   "outputs": [
    {
     "data": {
      "image/jpeg": "[encoded data removed]",
      "text/html": [
       "\n",
       "        <iframe\n",
       "            width=\"400\"\n",
       "            height=\"300\"\n",
       "            src=\"https://www.youtube.com/embed/LIGpWlXlAYk\"\n",
       "            frameborder=\"0\"\n",
       "            allowfullscreen\n",
       "        ></iframe>\n",
       "        "
      ],
      "text/plain": [
       "<IPython.lib.display.YouTubeVideo at 0x7f94542dccc0>"
      ]
     },
     "execution_count": 59,
     "metadata": {},
     "output_type": "execute_result"
    }
   ],
   "source": [
    "YouTubeVideo('LIGpWlXlAYk')"
   ]
  },
  {
   "cell_type": "markdown",
   "metadata": {},
   "source": [
    "## Segment Data"
   ]
  },
  {
   "cell_type": "code",
   "execution_count": 17,
   "metadata": {},
   "outputs": [],
   "source": [
    "validate_record = \"../data/yt8m/3/frame/validate/validate0001.tfrecord\"\n",
    "val_vid_ids = []\n",
    "val_vid_labels = []\n",
    "segment_start_times = []\n",
    "segment_end_times = []\n",
    "segment_labels = []\n",
    "segment_scores = []\n",
    "\n",
    "for example in tf.python_io.tf_record_iterator(validate_record):\n",
    "    tf_example = tf.train.Example.FromString(example)\n",
    "    val_vid_ids.append(tf_example.features.feature['id']\n",
    "                   .bytes_list.value[0].decode(encoding='UTF-8'))\n",
    "    val_vid_labels.append(tf_example.features.feature['labels'].int64_list.value)\n",
    "    segment_start_times.append(tf_example.features.feature['segment_start_times'].int64_list.value)\n",
    "    segment_end_times.append(tf_example.features.feature['segment_end_times'].int64_list.value)\n",
    "    segment_labels.append(tf_example.features.feature['segment_labels'].int64_list.value)\n",
    "    segment_scores.append(tf_example.features.feature['segment_scores'].float_list.value)"
   ]
  },
  {
   "cell_type": "code",
   "execution_count": 18,
   "metadata": {},
   "outputs": [
    {
     "name": "stdout",
     "output_type": "stream",
     "text": [
      "cpab\n",
      "[2, 7, 171, 757, 1038, 1158]\n",
      "[55, 175, 60]\n",
      "[60, 180, 65]\n",
      "[1038, 1038, 1038]\n",
      "[1.0, 1.0, 1.0]\n"
     ]
    }
   ],
   "source": [
    "print(val_vid_ids[0])\n",
    "print(val_vid_labels[0])\n",
    "print(segment_start_times[0])\n",
    "print(segment_end_times[0])\n",
    "print(segment_labels[0])\n",
    "print(segment_scores[0])"
   ]
  },
  {
   "cell_type": "code",
   "execution_count": 19,
   "metadata": {},
   "outputs": [
    {
     "data": {
      "text/html": [
       "<div>\n",
       "<style scoped>\n",
       "    .dataframe tbody tr th:only-of-type {\n",
       "        vertical-align: middle;\n",
       "    }\n",
       "\n",
       "    .dataframe tbody tr th {\n",
       "        vertical-align: top;\n",
       "    }\n",
       "\n",
       "    .dataframe thead th {\n",
       "        text-align: right;\n",
       "    }\n",
       "</style>\n",
       "<table border=\"1\" class=\"dataframe\">\n",
       "  <thead>\n",
       "    <tr style=\"text-align: right;\">\n",
       "      <th></th>\n",
       "      <th>Index</th>\n",
       "      <th>KnowledgeGraphId</th>\n",
       "      <th>Name</th>\n",
       "      <th>PositiveSegmentCount</th>\n",
       "      <th>TotalSegmentCount</th>\n",
       "    </tr>\n",
       "  </thead>\n",
       "  <tbody>\n",
       "    <tr>\n",
       "      <th>608</th>\n",
       "      <td>1038</td>\n",
       "      <td>/m/0h5xl4x</td>\n",
       "      <td>NaN</td>\n",
       "      <td>115</td>\n",
       "      <td>194</td>\n",
       "    </tr>\n",
       "  </tbody>\n",
       "</table>\n",
       "</div>"
      ],
      "text/plain": [
       "     Index KnowledgeGraphId Name  PositiveSegmentCount  TotalSegmentCount\n",
       "608   1038       /m/0h5xl4x  NaN                   115                194"
      ]
     },
     "execution_count": 19,
     "metadata": {},
     "output_type": "execute_result"
    }
   ],
   "source": [
    "vocab[vocab['Index'] == 1038]"
   ]
  },
  {
   "cell_type": "markdown",
   "metadata": {},
   "source": [
    "So we are unclear what label is positively ided at 0:55, 2:55, and 1:00... could be a specific car?\n",
    "\n",
    "Other labels in this video:\n",
    "\n",
    "Car, Sedan (automobile)"
   ]
  },
  {
   "cell_type": "code",
   "execution_count": 20,
   "metadata": {},
   "outputs": [
    {
     "data": {
      "image/jpeg": "[encoded data removed]",
      "text/html": [
       "\n",
       "        <iframe\n",
       "            width=\"400\"\n",
       "            height=\"300\"\n",
       "            src=\"https://www.youtube.com/embed/7pRsql_MUi4\"\n",
       "            frameborder=\"0\"\n",
       "            allowfullscreen\n",
       "        ></iframe>\n",
       "        "
      ],
      "text/plain": [
       "<IPython.lib.display.YouTubeVideo at 0x7f94a407ee80>"
      ]
     },
     "execution_count": 20,
     "metadata": {},
     "output_type": "execute_result"
    }
   ],
   "source": [
    "YouTubeVideo('7pRsql_MUi4')"
   ]
  },
  {
   "cell_type": "code",
   "execution_count": 21,
   "metadata": {},
   "outputs": [
    {
     "name": "stdout",
     "output_type": "stream",
     "text": [
      "4rab\n",
      "[11, 20, 22, 29, 32, 112, 303, 397, 472, 477, 528, 560, 572, 2205, 3606]\n",
      "[30, 45, 125, 95, 115]\n",
      "[35, 50, 130, 100, 120]\n",
      "[477, 477, 477, 477, 477]\n",
      "[0.0, 0.0, 1.0, 0.0, 0.0]\n"
     ]
    }
   ],
   "source": [
    "print(val_vid_ids[1])\n",
    "print(val_vid_labels[1])\n",
    "print(segment_start_times[1])\n",
    "print(segment_end_times[1])\n",
    "print(segment_labels[1])\n",
    "print(segment_scores[1])"
   ]
  },
  {
   "cell_type": "markdown",
   "metadata": {},
   "source": [
    "477 = 'Barbecue' (positive id at 2:05-2:10)\n",
    "\n",
    "Other labels in this video: \n",
    "\n",
    "Food, cooking, Dish(food), vegetable, chicken as food, Chicken, Salad, Grilling, Roasting, Sauce, "
   ]
  },
  {
   "cell_type": "code",
   "execution_count": 22,
   "metadata": {},
   "outputs": [
    {
     "data": {
      "image/jpeg": "[encoded data removed]",
      "text/html": [
       "\n",
       "        <iframe\n",
       "            width=\"400\"\n",
       "            height=\"300\"\n",
       "            src=\"https://www.youtube.com/embed/CTiM-_JdMP4\"\n",
       "            frameborder=\"0\"\n",
       "            allowfullscreen\n",
       "        ></iframe>\n",
       "        "
      ],
      "text/plain": [
       "<IPython.lib.display.YouTubeVideo at 0x7f94a40903c8>"
      ]
     },
     "execution_count": 22,
     "metadata": {},
     "output_type": "execute_result"
    }
   ],
   "source": [
    "YouTubeVideo(\"CTiM-_JdMP4\")"
   ]
  },
  {
   "cell_type": "markdown",
   "metadata": {},
   "source": [
    "Questions:\n",
    "- Do we only get segment labels for one of the video labels?"
   ]
  },
  {
   "cell_type": "markdown",
   "metadata": {},
   "source": [
    "## Labels"
   ]
  },
  {
   "cell_type": "code",
   "execution_count": 23,
   "metadata": {},
   "outputs": [],
   "source": [
    "vocab = pd.read_csv('../data/yt8m/vocabulary.csv')"
   ]
  },
  {
   "cell_type": "code",
   "execution_count": 24,
   "metadata": {},
   "outputs": [
    {
     "data": {
      "text/plain": [
       "1000"
      ]
     },
     "execution_count": 24,
     "metadata": {},
     "output_type": "execute_result"
    }
   ],
   "source": [
    "len(vocab['Index'])"
   ]
  },
  {
   "cell_type": "code",
   "execution_count": 153,
   "metadata": {},
   "outputs": [
    {
     "data": {
      "text/html": [
       "<div>\n",
       "<style scoped>\n",
       "    .dataframe tbody tr th:only-of-type {\n",
       "        vertical-align: middle;\n",
       "    }\n",
       "\n",
       "    .dataframe tbody tr th {\n",
       "        vertical-align: top;\n",
       "    }\n",
       "\n",
       "    .dataframe thead th {\n",
       "        text-align: right;\n",
       "    }\n",
       "</style>\n",
       "<table border=\"1\" class=\"dataframe\">\n",
       "  <thead>\n",
       "    <tr style=\"text-align: right;\">\n",
       "      <th></th>\n",
       "      <th>Index</th>\n",
       "      <th>KnowledgeGraphId</th>\n",
       "      <th>Name</th>\n",
       "      <th>PositiveSegmentCount</th>\n",
       "      <th>TotalSegmentCount</th>\n",
       "    </tr>\n",
       "  </thead>\n",
       "  <tbody>\n",
       "    <tr>\n",
       "      <th>0</th>\n",
       "      <td>3</td>\n",
       "      <td>/m/01jddz</td>\n",
       "      <td>Concert</td>\n",
       "      <td>181</td>\n",
       "      <td>240</td>\n",
       "    </tr>\n",
       "    <tr>\n",
       "      <th>1</th>\n",
       "      <td>7</td>\n",
       "      <td>/m/0k4j</td>\n",
       "      <td>Car</td>\n",
       "      <td>159</td>\n",
       "      <td>246</td>\n",
       "    </tr>\n",
       "    <tr>\n",
       "      <th>2</th>\n",
       "      <td>8</td>\n",
       "      <td>/m/026bk</td>\n",
       "      <td>Dance</td>\n",
       "      <td>200</td>\n",
       "      <td>245</td>\n",
       "    </tr>\n",
       "    <tr>\n",
       "      <th>3</th>\n",
       "      <td>11</td>\n",
       "      <td>/m/02wbm</td>\n",
       "      <td>Food</td>\n",
       "      <td>121</td>\n",
       "      <td>247</td>\n",
       "    </tr>\n",
       "    <tr>\n",
       "      <th>4</th>\n",
       "      <td>12</td>\n",
       "      <td>/m/02vx4</td>\n",
       "      <td>Association football</td>\n",
       "      <td>152</td>\n",
       "      <td>249</td>\n",
       "    </tr>\n",
       "  </tbody>\n",
       "</table>\n",
       "</div>"
      ],
      "text/plain": [
       "   Index KnowledgeGraphId                  Name  PositiveSegmentCount  \\\n",
       "0      3        /m/01jddz               Concert                   181   \n",
       "1      7          /m/0k4j                   Car                   159   \n",
       "2      8         /m/026bk                 Dance                   200   \n",
       "3     11         /m/02wbm                  Food                   121   \n",
       "4     12         /m/02vx4  Association football                   152   \n",
       "\n",
       "   TotalSegmentCount  \n",
       "0                240  \n",
       "1                246  \n",
       "2                245  \n",
       "3                247  \n",
       "4                249  "
      ]
     },
     "execution_count": 153,
     "metadata": {},
     "output_type": "execute_result"
    }
   ],
   "source": [
    "vocab.head()"
   ]
  },
  {
   "cell_type": "code",
   "execution_count": 152,
   "metadata": {},
   "outputs": [
    {
     "data": {
      "text/html": [
       "<div>\n",
       "<style scoped>\n",
       "    .dataframe tbody tr th:only-of-type {\n",
       "        vertical-align: middle;\n",
       "    }\n",
       "\n",
       "    .dataframe tbody tr th {\n",
       "        vertical-align: top;\n",
       "    }\n",
       "\n",
       "    .dataframe thead th {\n",
       "        text-align: right;\n",
       "    }\n",
       "</style>\n",
       "<table border=\"1\" class=\"dataframe\">\n",
       "  <thead>\n",
       "    <tr style=\"text-align: right;\">\n",
       "      <th></th>\n",
       "      <th>Index</th>\n",
       "      <th>KnowledgeGraphId</th>\n",
       "      <th>Name</th>\n",
       "      <th>PositiveSegmentCount</th>\n",
       "      <th>TotalSegmentCount</th>\n",
       "    </tr>\n",
       "  </thead>\n",
       "  <tbody>\n",
       "    <tr>\n",
       "      <th>608</th>\n",
       "      <td>1038</td>\n",
       "      <td>/m/0h5xl4x</td>\n",
       "      <td>NaN</td>\n",
       "      <td>115</td>\n",
       "      <td>194</td>\n",
       "    </tr>\n",
       "  </tbody>\n",
       "</table>\n",
       "</div>"
      ],
      "text/plain": [
       "     Index KnowledgeGraphId Name  PositiveSegmentCount  TotalSegmentCount\n",
       "608   1038       /m/0h5xl4x  NaN                   115                194"
      ]
     },
     "execution_count": 152,
     "metadata": {},
     "output_type": "execute_result"
    }
   ],
   "source": [
    "#vocab[vocab['Index'] == 7]\n",
    "#vocab[vocab['Index'] == 171]\n",
    "vocab[vocab['Index'] == 1038]"
   ]
  },
  {
   "cell_type": "code",
   "execution_count": 175,
   "metadata": {},
   "outputs": [
    {
     "data": {
      "text/html": [
       "<div>\n",
       "<style scoped>\n",
       "    .dataframe tbody tr th:only-of-type {\n",
       "        vertical-align: middle;\n",
       "    }\n",
       "\n",
       "    .dataframe tbody tr th {\n",
       "        vertical-align: top;\n",
       "    }\n",
       "\n",
       "    .dataframe thead th {\n",
       "        text-align: right;\n",
       "    }\n",
       "</style>\n",
       "<table border=\"1\" class=\"dataframe\">\n",
       "  <thead>\n",
       "    <tr style=\"text-align: right;\">\n",
       "      <th></th>\n",
       "      <th>Index</th>\n",
       "      <th>KnowledgeGraphId</th>\n",
       "      <th>Name</th>\n",
       "      <th>PositiveSegmentCount</th>\n",
       "      <th>TotalSegmentCount</th>\n",
       "    </tr>\n",
       "  </thead>\n",
       "  <tbody>\n",
       "    <tr>\n",
       "      <th>56</th>\n",
       "      <td>120</td>\n",
       "      <td>/m/0dxrf</td>\n",
       "      <td>NaN</td>\n",
       "      <td>96</td>\n",
       "      <td>243</td>\n",
       "    </tr>\n",
       "    <tr>\n",
       "      <th>120</th>\n",
       "      <td>235</td>\n",
       "      <td>/m/0h5y1j0</td>\n",
       "      <td>NaN</td>\n",
       "      <td>74</td>\n",
       "      <td>205</td>\n",
       "    </tr>\n",
       "    <tr>\n",
       "      <th>167</th>\n",
       "      <td>316</td>\n",
       "      <td>/m/0h5wtyy</td>\n",
       "      <td>NaN</td>\n",
       "      <td>122</td>\n",
       "      <td>203</td>\n",
       "    </tr>\n",
       "    <tr>\n",
       "      <th>253</th>\n",
       "      <td>469</td>\n",
       "      <td>/m/0h5wwjv</td>\n",
       "      <td>NaN</td>\n",
       "      <td>86</td>\n",
       "      <td>177</td>\n",
       "    </tr>\n",
       "    <tr>\n",
       "      <th>317</th>\n",
       "      <td>573</td>\n",
       "      <td>/m/03hcy1d</td>\n",
       "      <td>NaN</td>\n",
       "      <td>99</td>\n",
       "      <td>191</td>\n",
       "    </tr>\n",
       "    <tr>\n",
       "      <th>430</th>\n",
       "      <td>757</td>\n",
       "      <td>/m/0h5wp8d</td>\n",
       "      <td>NaN</td>\n",
       "      <td>98</td>\n",
       "      <td>217</td>\n",
       "    </tr>\n",
       "    <tr>\n",
       "      <th>608</th>\n",
       "      <td>1038</td>\n",
       "      <td>/m/0h5xl4x</td>\n",
       "      <td>NaN</td>\n",
       "      <td>115</td>\n",
       "      <td>194</td>\n",
       "    </tr>\n",
       "    <tr>\n",
       "      <th>671</th>\n",
       "      <td>1179</td>\n",
       "      <td>/m/06yzz</td>\n",
       "      <td>NaN</td>\n",
       "      <td>93</td>\n",
       "      <td>223</td>\n",
       "    </tr>\n",
       "    <tr>\n",
       "      <th>728</th>\n",
       "      <td>1298</td>\n",
       "      <td>/m/0xmf42g</td>\n",
       "      <td>NaN</td>\n",
       "      <td>104</td>\n",
       "      <td>190</td>\n",
       "    </tr>\n",
       "    <tr>\n",
       "      <th>820</th>\n",
       "      <td>1429</td>\n",
       "      <td>/m/0h5wtp0</td>\n",
       "      <td>NaN</td>\n",
       "      <td>76</td>\n",
       "      <td>208</td>\n",
       "    </tr>\n",
       "    <tr>\n",
       "      <th>965</th>\n",
       "      <td>1724</td>\n",
       "      <td>/m/0h5_4p3</td>\n",
       "      <td>NaN</td>\n",
       "      <td>93</td>\n",
       "      <td>183</td>\n",
       "    </tr>\n",
       "    <tr>\n",
       "      <th>985</th>\n",
       "      <td>1738</td>\n",
       "      <td>/m/0j72pxm</td>\n",
       "      <td>NaN</td>\n",
       "      <td>71</td>\n",
       "      <td>175</td>\n",
       "    </tr>\n",
       "  </tbody>\n",
       "</table>\n",
       "</div>"
      ],
      "text/plain": [
       "     Index KnowledgeGraphId Name  PositiveSegmentCount  TotalSegmentCount\n",
       "56     120         /m/0dxrf  NaN                    96                243\n",
       "120    235       /m/0h5y1j0  NaN                    74                205\n",
       "167    316       /m/0h5wtyy  NaN                   122                203\n",
       "253    469       /m/0h5wwjv  NaN                    86                177\n",
       "317    573       /m/03hcy1d  NaN                    99                191\n",
       "430    757       /m/0h5wp8d  NaN                    98                217\n",
       "608   1038       /m/0h5xl4x  NaN                   115                194\n",
       "671   1179         /m/06yzz  NaN                    93                223\n",
       "728   1298       /m/0xmf42g  NaN                   104                190\n",
       "820   1429       /m/0h5wtp0  NaN                    76                208\n",
       "965   1724       /m/0h5_4p3  NaN                    93                183\n",
       "985   1738       /m/0j72pxm  NaN                    71                175"
      ]
     },
     "execution_count": 175,
     "metadata": {},
     "output_type": "execute_result"
    }
   ],
   "source": [
    "vocab[vocab['Name'].isnull()]"
   ]
  },
  {
   "cell_type": "code",
   "execution_count": 181,
   "metadata": {},
   "outputs": [
    {
     "data": {
      "text/html": [
       "<div>\n",
       "<style scoped>\n",
       "    .dataframe tbody tr th:only-of-type {\n",
       "        vertical-align: middle;\n",
       "    }\n",
       "\n",
       "    .dataframe tbody tr th {\n",
       "        vertical-align: top;\n",
       "    }\n",
       "\n",
       "    .dataframe thead th {\n",
       "        text-align: right;\n",
       "    }\n",
       "</style>\n",
       "<table border=\"1\" class=\"dataframe\">\n",
       "  <thead>\n",
       "    <tr style=\"text-align: right;\">\n",
       "      <th></th>\n",
       "      <th>Index</th>\n",
       "      <th>KnowledgeGraphId</th>\n",
       "      <th>Name</th>\n",
       "      <th>PositiveSegmentCount</th>\n",
       "      <th>TotalSegmentCount</th>\n",
       "    </tr>\n",
       "  </thead>\n",
       "  <tbody>\n",
       "    <tr>\n",
       "      <th>9</th>\n",
       "      <td>22</td>\n",
       "      <td>/m/01mtb</td>\n",
       "      <td>Cooking</td>\n",
       "      <td>90</td>\n",
       "      <td>250</td>\n",
       "    </tr>\n",
       "  </tbody>\n",
       "</table>\n",
       "</div>"
      ],
      "text/plain": [
       "   Index KnowledgeGraphId     Name  PositiveSegmentCount  TotalSegmentCount\n",
       "9     22         /m/01mtb  Cooking                    90                250"
      ]
     },
     "execution_count": 181,
     "metadata": {},
     "output_type": "execute_result"
    }
   ],
   "source": [
    "vocab[vocab['Index'] == 22]"
   ]
  },
  {
   "cell_type": "code",
   "execution_count": 90,
   "metadata": {},
   "outputs": [
    {
     "name": "stdout",
     "output_type": "stream",
     "text": [
      "['Concert']\n"
     ]
    }
   ],
   "source": [
    "n = 4 # although, we'll only show those that appear in the 1,000 for this competition\n",
    "from collections import Counter\n",
    "\n",
    "label_mapping =  vocab[['Index', 'Name']].set_index('Index', drop=True).to_dict()['Name']\n",
    "\n",
    "top_n = Counter([item for sublist in labels for item in sublist]).most_common(n)\n",
    "top_n_labels = [int(i[0]) for i in top_n]\n",
    "top_n_label_names = [label_mapping[x] for x in top_n_labels if x in label_mapping] # filter out the labels that aren't in the 1,000 used for this competition\n",
    "print(top_n_label_names)"
   ]
  },
  {
   "cell_type": "markdown",
   "metadata": {},
   "source": [
    "1000 lables are used for the kaggle competition... but there are MORE labels.\n",
    "Do we want to figure out what these are?\n",
    "\n",
    "->Don't think they have names..."
   ]
  },
  {
   "cell_type": "code",
   "execution_count": 91,
   "metadata": {},
   "outputs": [
    {
     "data": {
      "text/plain": [
       "Text(0.5, 1.0, 'All labels with sample count')"
      ]
     },
     "execution_count": 91,
     "metadata": {},
     "output_type": "execute_result"
    },
    {
     "data": {
      "image/png": "[encoded data removed]",
      "text/plain": [
       "<Figure size 720x504 with 1 Axes>"
      ]
     },
     "metadata": {
      "needs_background": "light"
     },
     "output_type": "display_data"
    }
   ],
   "source": [
    "import seaborn as sns\n",
    "labels_count_dict = dict(top_n)\n",
    "labels_count_df = pd.DataFrame.from_dict(labels_count_dict, orient='index').reset_index()\n",
    "labels_count_df.columns = ['label', 'count']\n",
    "labels_count_df['label'] = labels_count_df['label'].map(label_mapping, na_action='ignore')\n",
    "TOP_labels = list(labels_count_df['label'])[:n]\n",
    "fig, ax = plt.subplots(figsize=(10,7))\n",
    "sns.barplot(y='label', x='count', data=labels_count_df)\n",
    "plt.title('All labels with sample count')"
   ]
  },
  {
   "cell_type": "markdown",
   "metadata": {},
   "source": [
    "### Labels used in competition"
   ]
  },
  {
   "cell_type": "code",
   "execution_count": 65,
   "metadata": {},
   "outputs": [
    {
     "name": "stdout",
     "output_type": "stream",
     "text": [
      "['Concert', 'Car', 'Dance', 'Association football', 'Food', 'Pet', 'Mobile phone', 'Motorsport', 'Smartphone', 'Piano', 'Racing', 'Acoustic guitar', 'Drum', 'Motorcycle', 'Train', 'Choir', 'Fishing', 'Motorcycling', 'Drum kit', 'Railroad car', 'Airplane', 'Outdoor recreation', 'Hairstyle', 'Basketball', 'Truck', 'Orchestra', 'Fish', 'Cooking', 'Disc jockey', 'Recreational fishing', 'Wedding', 'Sport utility vehicle', 'Cycling', 'Bicycle', 'IPhone', 'Landing', 'Airport', 'Locomotive', nan, 'Skateboarding', 'Engine', 'Sports car', 'Pickup truck', 'Samsung Galaxy', 'Boxing', 'Playing card', 'Four-wheel drive', 'Doll', 'Dish (food)', 'Festival', 'Skiing', 'Robot', 'Batman', 'Cello', 'Lego', 'Ballet', 'Parade', 'Slam dunk', 'Boat', 'Surfing', 'Helicopter', 'Sasuke Uchiha', 'Train station', 'Jet aircraft', 'Weight training', 'Shoe', 'Batting (cricket)', 'Drawing', 'Comic book', 'Pony', 'Exhaust system', 'Bride', 'Tree', 'Marching band', 'Hunting', 'Cake', 'Jeep', 'Jeep Wrangler', 'Skatepark', 'IPod', 'IPod Touch', 'Coupé', 'Painting', 'Mercedes-Benz', 'Monster High', 'Sedan (automobile)', 'House', 'Eye shadow', 'Snowboarding', 'Ski', 'Dodge', 'Computer monitor', 'Mountain bike', 'IPad', 'Hockey', 'Amusement park', 'Roller coaster', 'Beach', 'Xbox 360', 'Ship', 'Swimming pool', 'Room', 'Ninja', 'Turtle', 'Teenage Mutant Ninja Turtles', 'Boeing 747', 'Fishing bait', 'Cricket', 'Bowling (cricket)', 'Lake', 'Sonic the Hedgehog (character)', 'University', 'PlayStation Portable', 'Underwater diving', 'Scuba diving', 'Shark', 'Christmas', 'Cockpit', 'Camera', 'Digital camera', 'Book', 'Goku', 'Gohan', 'Dessert', 'Knitting', 'Hat', 'Aquarium', 'Wheelie', 'Sailboat', 'Drag racing', 'Carnival', 'T-shirt', 'Kinect', 'Flour', 'School', 'Drink', 'Cocktail', 'Meat', 'Paint', 'Ford Mustang', 'Diatonic button accordion', 'Tire', 'Mercedes-Benz S-Class', 'Tractor', 'Pilates', 'Hatchback', 'Saw', 'Pool (cue sports)', 'Building', 'Jewellery', 'Squat (exercise)', 'Mascara', 'Human swimming', 'Money', 'Jumping', 'Rallying', 'German Shepherd', 'Printing', 'Mountain biking', 'Sewing', 'Sewing machine', 'Video game console', 'IPhone 4S', 'Samsung Galaxy Note II', 'Dashcam', 'Domestic pigeon', 'Lego City', 'Moped', 'Fruit', 'Lemon', 'Orange (fruit)', 'Runway (fashion)', 'Costume', 'Helmet', 'Driving', 'Bus', 'Stadium', 'Airbus A320 family', 'Airbus A330', 'Camping', 'Campsite', 'Dress', 'Carp fishing', 'Rain', 'Hail', 'Computer keyboard', 'Pencil', 'Tram', 'Saxophone', 'Trombone', 'Jumbotron', 'Kite', 'Tattoo', 'Muffler', 'Supercharger', 'Poker', 'Auto Race (Japanese sport)', 'Dressage', 'Water', 'Goalkeeper (association football)', 'Garden', 'Standup paddleboarding', 'Camera lens', 'Longboard (skateboard)', 'Deer', 'White-tailed deer', 'Vegetarian cuisine', 'Strawberry', 'Apple', 'Bangs (hair)', 'Elevator', 'Armour', 'Largemouth bass', 'Tablet computer', 'Simba', 'Hair iron', 'Street racing', 'Gymnastics', 'Balance beam', 'Mountain', 'Fishing lure', 'Tai chi', 'Police officer', 'Elephant', 'Living room', 'Dining room', 'Pond', 'Thomas the Tank Engine', 'Mattel', 'Bread', 'Banana', 'Electric locomotive', 'Glider (sailplane)', 'Flag', 'Bar', 'Fire engine', 'Police car', 'Video card', 'Eating', 'Restaurant', 'Roller skating', 'Mars', 'Microsoft Lumia', 'Runway', 'Boeing 777', 'Alarm device', 'Chocolate', 'Waterfowl hunting', 'Statue', 'Airbrush', 'Firefighter', 'Toyota Hilux', 'Chevrolet Silverado', 'Coca-Cola', 'Cola', 'Soft drink', 'Monster', 'Teacher', 'Classroom', 'Kickboxing', 'Coupon', 'Drifting (motorsport)', 'Volkswagen', nan, 'Harp', 'Bead', 'Beadwork', 'Braid', 'French braid', 'Eyelash extensions', 'Flamenco', 'Dolphin', 'Lamborghini', 'Barbell', 'Graffiti', 'Street art', 'Chainsaw', 'Knot', 'Cat', nan, 'Subaru Impreza', 'Subaru', nan, 'Rouge (cosmetics)', 'Concealer', 'Ram Trucks', 'Action figure', 'Hamster', 'Booster pack', 'Seafood', 'Grocery store', 'Christmas decoration', 'Van', 'Wrestling', 'Mercedes-Benz SLS AMG', 'Motocross', 'Sora (Kingdom Hearts)', 'Washing machine', 'Pump', 'Nintendo 3DS', 'French horn', 'Downhill', 'Chevrolet', 'Muscle car', 'Chevrolet Chevelle', 'Bass (fish)', 'Solar panel', 'Mushroom', 'Soup', 'Sneakers', 'Nike', 'Sailing ship', 'Tennis', 'Gramophone record', 'River', 'Catfish', 'Parachuting', 'Paragliding', 'Parachute', 'Personal computer', 'Snowboard', 'Bulldog', 'Beauty salon', 'Cargo', 'Yamaha YZF-R1', 'Golden Retriever', 'Handbag', 'Ice', 'Portrait', 'Organ (music)', 'Easter egg', 'Headphones', 'Headset (audio)', 'Boeing 737', 'Scarf', 'Bridge', 'Audi', 'PlayStation 4', 'Incandescent light bulb', 'Watch', 'Smartwatch', 'Egg as food', 'Renault', 'Noodle', 'Go-kart', 'Dough', 'Cookie', 'Icing (food)', 'Candy', 'Biscuit', 'Butter', 'Guitar amplifier', 'IPhone 5', 'IPhone 5S', 'Printer (computing)', 'Mini', 'Mini (marque)', 'Necktie', 'Shampoo', 'Insect', 'Military parade', 'Running', 'Resort', 'Tractor pulling', 'Minibike', 'Dodge Challenger', 'Clutch', 'Samsung Galaxy S III', 'BMW', 'BMW Motorrad', 'Xbox One', 'Crab', 'Alpine skiing', 'Hard disk drive', 'Cheese', 'Rock (geology)', 'Ford Focus', 'Galaxy', 'Fisherman', 'Bed', 'Chili pepper', 'Crossover (automobile)', 'Shopping mall', 'Hotel', 'Board game', 'Stitch (textile arts)', 'Manicure', 'Lego minifigure', 'Softball', 'Soldier', 'Toyota Land Cruiser', 'Vegetable', 'Salad', 'Pasta', 'Bartender', 'Minivan', 'Cruise ship']\n"
     ]
    }
   ],
   "source": [
    "label_mapping =  vocab[['Index', 'Name']].set_index('Index', drop=True).to_dict()['Name']\n",
    "\n",
    "top_ = Counter([item for sublist in labels for item in sublist]).most_common()\n",
    "comp_labels = [int(i[0]) for i in top_]\n",
    "comp_label_names = [label_mapping[x] for x in comp_labels if x in label_mapping]\n",
    "\n",
    "\n",
    "print(comp_label_names)"
   ]
  },
  {
   "cell_type": "code",
   "execution_count": 82,
   "metadata": {},
   "outputs": [
    {
     "data": {
      "text/plain": [
       "[120, 235, 316, 469, 573, 757, 1038, 1179, 1298, 1429, 1724, 1738]"
      ]
     },
     "execution_count": 82,
     "metadata": {},
     "output_type": "execute_result"
    }
   ],
   "source": [
    "#list of Nan name indices\n",
    "Nandf = vocab[vocab['Name'].isnull()]\n",
    "Nan_list = list(Nandf.loc[:,'Index'])\n",
    "Nan_list"
   ]
  },
  {
   "cell_type": "markdown",
   "metadata": {},
   "source": [
    "### Sort By Counts"
   ]
  },
  {
   "cell_type": "code",
   "execution_count": 40,
   "metadata": {},
   "outputs": [],
   "source": [
    "vocab['PositiveRatio'] = vocab['PositiveSegmentCount']/vocab['TotalSegmentCount']"
   ]
  },
  {
   "cell_type": "code",
   "execution_count": 41,
   "metadata": {},
   "outputs": [
    {
     "data": {
      "text/html": [
       "<div>\n",
       "<style scoped>\n",
       "    .dataframe tbody tr th:only-of-type {\n",
       "        vertical-align: middle;\n",
       "    }\n",
       "\n",
       "    .dataframe tbody tr th {\n",
       "        vertical-align: top;\n",
       "    }\n",
       "\n",
       "    .dataframe thead th {\n",
       "        text-align: right;\n",
       "    }\n",
       "</style>\n",
       "<table border=\"1\" class=\"dataframe\">\n",
       "  <thead>\n",
       "    <tr style=\"text-align: right;\">\n",
       "      <th></th>\n",
       "      <th>Index</th>\n",
       "      <th>KnowledgeGraphId</th>\n",
       "      <th>Name</th>\n",
       "      <th>PositiveSegmentCount</th>\n",
       "      <th>TotalSegmentCount</th>\n",
       "      <th>PositiveRatio</th>\n",
       "    </tr>\n",
       "  </thead>\n",
       "  <tbody>\n",
       "    <tr>\n",
       "      <th>0</th>\n",
       "      <td>3</td>\n",
       "      <td>/m/01jddz</td>\n",
       "      <td>Concert</td>\n",
       "      <td>181</td>\n",
       "      <td>240</td>\n",
       "      <td>0.754167</td>\n",
       "    </tr>\n",
       "    <tr>\n",
       "      <th>1</th>\n",
       "      <td>7</td>\n",
       "      <td>/m/0k4j</td>\n",
       "      <td>Car</td>\n",
       "      <td>159</td>\n",
       "      <td>246</td>\n",
       "      <td>0.646341</td>\n",
       "    </tr>\n",
       "    <tr>\n",
       "      <th>2</th>\n",
       "      <td>8</td>\n",
       "      <td>/m/026bk</td>\n",
       "      <td>Dance</td>\n",
       "      <td>200</td>\n",
       "      <td>245</td>\n",
       "      <td>0.816327</td>\n",
       "    </tr>\n",
       "    <tr>\n",
       "      <th>3</th>\n",
       "      <td>11</td>\n",
       "      <td>/m/02wbm</td>\n",
       "      <td>Food</td>\n",
       "      <td>121</td>\n",
       "      <td>247</td>\n",
       "      <td>0.489879</td>\n",
       "    </tr>\n",
       "    <tr>\n",
       "      <th>4</th>\n",
       "      <td>12</td>\n",
       "      <td>/m/02vx4</td>\n",
       "      <td>Association football</td>\n",
       "      <td>152</td>\n",
       "      <td>249</td>\n",
       "      <td>0.610442</td>\n",
       "    </tr>\n",
       "  </tbody>\n",
       "</table>\n",
       "</div>"
      ],
      "text/plain": [
       "   Index KnowledgeGraphId                  Name  PositiveSegmentCount  \\\n",
       "0      3        /m/01jddz               Concert                   181   \n",
       "1      7          /m/0k4j                   Car                   159   \n",
       "2      8         /m/026bk                 Dance                   200   \n",
       "3     11         /m/02wbm                  Food                   121   \n",
       "4     12         /m/02vx4  Association football                   152   \n",
       "\n",
       "   TotalSegmentCount  PositiveRatio  \n",
       "0                240       0.754167  \n",
       "1                246       0.646341  \n",
       "2                245       0.816327  \n",
       "3                247       0.489879  \n",
       "4                249       0.610442  "
      ]
     },
     "execution_count": 41,
     "metadata": {},
     "output_type": "execute_result"
    }
   ],
   "source": [
    "vocab.head()"
   ]
  },
  {
   "cell_type": "code",
   "execution_count": 42,
   "metadata": {},
   "outputs": [
    {
     "data": {
      "text/html": [
       "<div>\n",
       "<style scoped>\n",
       "    .dataframe tbody tr th:only-of-type {\n",
       "        vertical-align: middle;\n",
       "    }\n",
       "\n",
       "    .dataframe tbody tr th {\n",
       "        vertical-align: top;\n",
       "    }\n",
       "\n",
       "    .dataframe thead th {\n",
       "        text-align: right;\n",
       "    }\n",
       "</style>\n",
       "<table border=\"1\" class=\"dataframe\">\n",
       "  <thead>\n",
       "    <tr style=\"text-align: right;\">\n",
       "      <th></th>\n",
       "      <th>Index</th>\n",
       "      <th>KnowledgeGraphId</th>\n",
       "      <th>Name</th>\n",
       "      <th>PositiveSegmentCount</th>\n",
       "      <th>TotalSegmentCount</th>\n",
       "      <th>PositiveRatio</th>\n",
       "    </tr>\n",
       "  </thead>\n",
       "  <tbody>\n",
       "    <tr>\n",
       "      <th>592</th>\n",
       "      <td>1014</td>\n",
       "      <td>/m/0284w</td>\n",
       "      <td>Desert</td>\n",
       "      <td>197</td>\n",
       "      <td>240</td>\n",
       "      <td>0.820833</td>\n",
       "    </tr>\n",
       "    <tr>\n",
       "      <th>244</th>\n",
       "      <td>452</td>\n",
       "      <td>/m/02nnq5</td>\n",
       "      <td>Longboard (skateboard)</td>\n",
       "      <td>201</td>\n",
       "      <td>245</td>\n",
       "      <td>0.820408</td>\n",
       "    </tr>\n",
       "    <tr>\n",
       "      <th>161</th>\n",
       "      <td>305</td>\n",
       "      <td>/m/0r4kr10</td>\n",
       "      <td>Dashcam</td>\n",
       "      <td>200</td>\n",
       "      <td>244</td>\n",
       "      <td>0.819672</td>\n",
       "    </tr>\n",
       "    <tr>\n",
       "      <th>19</th>\n",
       "      <td>45</td>\n",
       "      <td>/m/07jdr</td>\n",
       "      <td>Train</td>\n",
       "      <td>200</td>\n",
       "      <td>244</td>\n",
       "      <td>0.819672</td>\n",
       "    </tr>\n",
       "    <tr>\n",
       "      <th>44</th>\n",
       "      <td>95</td>\n",
       "      <td>/m/02988_</td>\n",
       "      <td>Four-wheel drive</td>\n",
       "      <td>176</td>\n",
       "      <td>215</td>\n",
       "      <td>0.818605</td>\n",
       "    </tr>\n",
       "  </tbody>\n",
       "</table>\n",
       "</div>"
      ],
      "text/plain": [
       "     Index KnowledgeGraphId                    Name  PositiveSegmentCount  \\\n",
       "592   1014         /m/0284w                  Desert                   197   \n",
       "244    452        /m/02nnq5  Longboard (skateboard)                   201   \n",
       "161    305       /m/0r4kr10                 Dashcam                   200   \n",
       "19      45         /m/07jdr                   Train                   200   \n",
       "44      95        /m/02988_        Four-wheel drive                   176   \n",
       "\n",
       "     TotalSegmentCount  PositiveRatio  \n",
       "592                240       0.820833  \n",
       "244                245       0.820408  \n",
       "161                244       0.819672  \n",
       "19                 244       0.819672  \n",
       "44                 215       0.818605  "
      ]
     },
     "execution_count": 42,
     "metadata": {},
     "output_type": "execute_result"
    }
   ],
   "source": [
    "vocab.sort_values(by='PositiveRatio', ascending=False).head()"
   ]
  },
  {
   "cell_type": "code",
   "execution_count": 43,
   "metadata": {},
   "outputs": [
    {
     "data": {
      "text/html": [
       "<div>\n",
       "<style scoped>\n",
       "    .dataframe tbody tr th:only-of-type {\n",
       "        vertical-align: middle;\n",
       "    }\n",
       "\n",
       "    .dataframe tbody tr th {\n",
       "        vertical-align: top;\n",
       "    }\n",
       "\n",
       "    .dataframe thead th {\n",
       "        text-align: right;\n",
       "    }\n",
       "</style>\n",
       "<table border=\"1\" class=\"dataframe\">\n",
       "  <thead>\n",
       "    <tr style=\"text-align: right;\">\n",
       "      <th></th>\n",
       "      <th>Index</th>\n",
       "      <th>KnowledgeGraphId</th>\n",
       "      <th>Name</th>\n",
       "      <th>PositiveSegmentCount</th>\n",
       "      <th>TotalSegmentCount</th>\n",
       "      <th>PositiveRatio</th>\n",
       "    </tr>\n",
       "  </thead>\n",
       "  <tbody>\n",
       "    <tr>\n",
       "      <th>92</th>\n",
       "      <td>192</td>\n",
       "      <td>/m/02plp2</td>\n",
       "      <td>Xbox 360</td>\n",
       "      <td>25</td>\n",
       "      <td>240</td>\n",
       "      <td>0.104167</td>\n",
       "    </tr>\n",
       "    <tr>\n",
       "      <th>129</th>\n",
       "      <td>245</td>\n",
       "      <td>/m/0r4_kmc</td>\n",
       "      <td>PlayStation 4</td>\n",
       "      <td>26</td>\n",
       "      <td>238</td>\n",
       "      <td>0.109244</td>\n",
       "    </tr>\n",
       "    <tr>\n",
       "      <th>599</th>\n",
       "      <td>1045</td>\n",
       "      <td>/m/0mjqn</td>\n",
       "      <td>Pie</td>\n",
       "      <td>29</td>\n",
       "      <td>248</td>\n",
       "      <td>0.116935</td>\n",
       "    </tr>\n",
       "    <tr>\n",
       "      <th>266</th>\n",
       "      <td>496</td>\n",
       "      <td>/m/0zd6</td>\n",
       "      <td>Macintosh</td>\n",
       "      <td>30</td>\n",
       "      <td>243</td>\n",
       "      <td>0.123457</td>\n",
       "    </tr>\n",
       "    <tr>\n",
       "      <th>702</th>\n",
       "      <td>1216</td>\n",
       "      <td>/m/037qhc</td>\n",
       "      <td>Jumbotron</td>\n",
       "      <td>31</td>\n",
       "      <td>249</td>\n",
       "      <td>0.124498</td>\n",
       "    </tr>\n",
       "  </tbody>\n",
       "</table>\n",
       "</div>"
      ],
      "text/plain": [
       "     Index KnowledgeGraphId           Name  PositiveSegmentCount  \\\n",
       "92     192        /m/02plp2       Xbox 360                    25   \n",
       "129    245       /m/0r4_kmc  PlayStation 4                    26   \n",
       "599   1045         /m/0mjqn            Pie                    29   \n",
       "266    496          /m/0zd6      Macintosh                    30   \n",
       "702   1216        /m/037qhc      Jumbotron                    31   \n",
       "\n",
       "     TotalSegmentCount  PositiveRatio  \n",
       "92                 240       0.104167  \n",
       "129                238       0.109244  \n",
       "599                248       0.116935  \n",
       "266                243       0.123457  \n",
       "702                249       0.124498  "
      ]
     },
     "execution_count": 43,
     "metadata": {},
     "output_type": "execute_result"
    }
   ],
   "source": [
    "vocab.sort_values(by='PositiveRatio', ascending=True).head()"
   ]
  },
  {
   "cell_type": "code",
   "execution_count": 44,
   "metadata": {},
   "outputs": [
    {
     "data": {
      "text/html": [
       "<div>\n",
       "<style scoped>\n",
       "    .dataframe tbody tr th:only-of-type {\n",
       "        vertical-align: middle;\n",
       "    }\n",
       "\n",
       "    .dataframe tbody tr th {\n",
       "        vertical-align: top;\n",
       "    }\n",
       "\n",
       "    .dataframe thead th {\n",
       "        text-align: right;\n",
       "    }\n",
       "</style>\n",
       "<table border=\"1\" class=\"dataframe\">\n",
       "  <thead>\n",
       "    <tr style=\"text-align: right;\">\n",
       "      <th></th>\n",
       "      <th>Index</th>\n",
       "      <th>KnowledgeGraphId</th>\n",
       "      <th>Name</th>\n",
       "      <th>PositiveSegmentCount</th>\n",
       "      <th>TotalSegmentCount</th>\n",
       "      <th>PositiveRatio</th>\n",
       "    </tr>\n",
       "  </thead>\n",
       "  <tbody>\n",
       "    <tr>\n",
       "      <th>956</th>\n",
       "      <td>1700</td>\n",
       "      <td>/m/02_7fj</td>\n",
       "      <td>Cajón</td>\n",
       "      <td>204</td>\n",
       "      <td>250</td>\n",
       "      <td>0.816000</td>\n",
       "    </tr>\n",
       "    <tr>\n",
       "      <th>178</th>\n",
       "      <td>340</td>\n",
       "      <td>/m/08zvcl</td>\n",
       "      <td>Enduro</td>\n",
       "      <td>202</td>\n",
       "      <td>247</td>\n",
       "      <td>0.817814</td>\n",
       "    </tr>\n",
       "    <tr>\n",
       "      <th>466</th>\n",
       "      <td>825</td>\n",
       "      <td>/m/01j61q</td>\n",
       "      <td>Tent</td>\n",
       "      <td>202</td>\n",
       "      <td>250</td>\n",
       "      <td>0.808000</td>\n",
       "    </tr>\n",
       "    <tr>\n",
       "      <th>198</th>\n",
       "      <td>388</td>\n",
       "      <td>/m/09qqq</td>\n",
       "      <td>Wall</td>\n",
       "      <td>201</td>\n",
       "      <td>248</td>\n",
       "      <td>0.810484</td>\n",
       "    </tr>\n",
       "    <tr>\n",
       "      <th>604</th>\n",
       "      <td>1056</td>\n",
       "      <td>/m/03gzqq</td>\n",
       "      <td>Golf club</td>\n",
       "      <td>201</td>\n",
       "      <td>249</td>\n",
       "      <td>0.807229</td>\n",
       "    </tr>\n",
       "  </tbody>\n",
       "</table>\n",
       "</div>"
      ],
      "text/plain": [
       "     Index KnowledgeGraphId       Name  PositiveSegmentCount  \\\n",
       "956   1700        /m/02_7fj      Cajón                   204   \n",
       "178    340        /m/08zvcl     Enduro                   202   \n",
       "466    825        /m/01j61q       Tent                   202   \n",
       "198    388         /m/09qqq       Wall                   201   \n",
       "604   1056        /m/03gzqq  Golf club                   201   \n",
       "\n",
       "     TotalSegmentCount  PositiveRatio  \n",
       "956                250       0.816000  \n",
       "178                247       0.817814  \n",
       "466                250       0.808000  \n",
       "198                248       0.810484  \n",
       "604                249       0.807229  "
      ]
     },
     "execution_count": 44,
     "metadata": {},
     "output_type": "execute_result"
    }
   ],
   "source": [
    "vocab.sort_values(by='PositiveSegmentCount', ascending=False).head()"
   ]
  },
  {
   "cell_type": "code",
   "execution_count": 45,
   "metadata": {},
   "outputs": [
    {
     "data": {
      "text/html": [
       "<div>\n",
       "<style scoped>\n",
       "    .dataframe tbody tr th:only-of-type {\n",
       "        vertical-align: middle;\n",
       "    }\n",
       "\n",
       "    .dataframe tbody tr th {\n",
       "        vertical-align: top;\n",
       "    }\n",
       "\n",
       "    .dataframe thead th {\n",
       "        text-align: right;\n",
       "    }\n",
       "</style>\n",
       "<table border=\"1\" class=\"dataframe\">\n",
       "  <thead>\n",
       "    <tr style=\"text-align: right;\">\n",
       "      <th></th>\n",
       "      <th>Index</th>\n",
       "      <th>KnowledgeGraphId</th>\n",
       "      <th>Name</th>\n",
       "      <th>PositiveSegmentCount</th>\n",
       "      <th>TotalSegmentCount</th>\n",
       "      <th>PositiveRatio</th>\n",
       "    </tr>\n",
       "  </thead>\n",
       "  <tbody>\n",
       "    <tr>\n",
       "      <th>92</th>\n",
       "      <td>192</td>\n",
       "      <td>/m/02plp2</td>\n",
       "      <td>Xbox 360</td>\n",
       "      <td>25</td>\n",
       "      <td>240</td>\n",
       "      <td>0.104167</td>\n",
       "    </tr>\n",
       "    <tr>\n",
       "      <th>129</th>\n",
       "      <td>245</td>\n",
       "      <td>/m/0r4_kmc</td>\n",
       "      <td>PlayStation 4</td>\n",
       "      <td>26</td>\n",
       "      <td>238</td>\n",
       "      <td>0.109244</td>\n",
       "    </tr>\n",
       "    <tr>\n",
       "      <th>599</th>\n",
       "      <td>1045</td>\n",
       "      <td>/m/0mjqn</td>\n",
       "      <td>Pie</td>\n",
       "      <td>29</td>\n",
       "      <td>248</td>\n",
       "      <td>0.116935</td>\n",
       "    </tr>\n",
       "    <tr>\n",
       "      <th>266</th>\n",
       "      <td>496</td>\n",
       "      <td>/m/0zd6</td>\n",
       "      <td>Macintosh</td>\n",
       "      <td>30</td>\n",
       "      <td>243</td>\n",
       "      <td>0.123457</td>\n",
       "    </tr>\n",
       "    <tr>\n",
       "      <th>458</th>\n",
       "      <td>816</td>\n",
       "      <td>/m/015j7</td>\n",
       "      <td>Bible</td>\n",
       "      <td>30</td>\n",
       "      <td>188</td>\n",
       "      <td>0.159574</td>\n",
       "    </tr>\n",
       "  </tbody>\n",
       "</table>\n",
       "</div>"
      ],
      "text/plain": [
       "     Index KnowledgeGraphId           Name  PositiveSegmentCount  \\\n",
       "92     192        /m/02plp2       Xbox 360                    25   \n",
       "129    245       /m/0r4_kmc  PlayStation 4                    26   \n",
       "599   1045         /m/0mjqn            Pie                    29   \n",
       "266    496          /m/0zd6      Macintosh                    30   \n",
       "458    816         /m/015j7          Bible                    30   \n",
       "\n",
       "     TotalSegmentCount  PositiveRatio  \n",
       "92                 240       0.104167  \n",
       "129                238       0.109244  \n",
       "599                248       0.116935  \n",
       "266                243       0.123457  \n",
       "458                188       0.159574  "
      ]
     },
     "execution_count": 45,
     "metadata": {},
     "output_type": "execute_result"
    }
   ],
   "source": [
    "vocab.sort_values(by='PositiveSegmentCount', ascending=True).head()"
   ]
  },
  {
   "cell_type": "code",
   "execution_count": 46,
   "metadata": {},
   "outputs": [
    {
     "data": {
      "text/html": [
       "<div>\n",
       "<style scoped>\n",
       "    .dataframe tbody tr th:only-of-type {\n",
       "        vertical-align: middle;\n",
       "    }\n",
       "\n",
       "    .dataframe tbody tr th {\n",
       "        vertical-align: top;\n",
       "    }\n",
       "\n",
       "    .dataframe thead th {\n",
       "        text-align: right;\n",
       "    }\n",
       "</style>\n",
       "<table border=\"1\" class=\"dataframe\">\n",
       "  <thead>\n",
       "    <tr style=\"text-align: right;\">\n",
       "      <th></th>\n",
       "      <th>Index</th>\n",
       "      <th>KnowledgeGraphId</th>\n",
       "      <th>Name</th>\n",
       "      <th>PositiveSegmentCount</th>\n",
       "      <th>TotalSegmentCount</th>\n",
       "      <th>PositiveRatio</th>\n",
       "    </tr>\n",
       "  </thead>\n",
       "  <tbody>\n",
       "    <tr>\n",
       "      <th>481</th>\n",
       "      <td>862</td>\n",
       "      <td>/m/06mf6</td>\n",
       "      <td>Rabbit</td>\n",
       "      <td>175</td>\n",
       "      <td>250</td>\n",
       "      <td>0.700</td>\n",
       "    </tr>\n",
       "    <tr>\n",
       "      <th>45</th>\n",
       "      <td>100</td>\n",
       "      <td>/m/0c4f_</td>\n",
       "      <td>Weight training</td>\n",
       "      <td>112</td>\n",
       "      <td>250</td>\n",
       "      <td>0.448</td>\n",
       "    </tr>\n",
       "    <tr>\n",
       "      <th>882</th>\n",
       "      <td>1548</td>\n",
       "      <td>/m/0jtt9</td>\n",
       "      <td>Chili pepper</td>\n",
       "      <td>84</td>\n",
       "      <td>250</td>\n",
       "      <td>0.336</td>\n",
       "    </tr>\n",
       "    <tr>\n",
       "      <th>307</th>\n",
       "      <td>560</td>\n",
       "      <td>/m/0dxn2</td>\n",
       "      <td>Roasting</td>\n",
       "      <td>46</td>\n",
       "      <td>250</td>\n",
       "      <td>0.184</td>\n",
       "    </tr>\n",
       "    <tr>\n",
       "      <th>89</th>\n",
       "      <td>186</td>\n",
       "      <td>/m/09ct_</td>\n",
       "      <td>Helicopter</td>\n",
       "      <td>190</td>\n",
       "      <td>250</td>\n",
       "      <td>0.760</td>\n",
       "    </tr>\n",
       "  </tbody>\n",
       "</table>\n",
       "</div>"
      ],
      "text/plain": [
       "     Index KnowledgeGraphId             Name  PositiveSegmentCount  \\\n",
       "481    862         /m/06mf6           Rabbit                   175   \n",
       "45     100         /m/0c4f_  Weight training                   112   \n",
       "882   1548         /m/0jtt9     Chili pepper                    84   \n",
       "307    560         /m/0dxn2         Roasting                    46   \n",
       "89     186         /m/09ct_       Helicopter                   190   \n",
       "\n",
       "     TotalSegmentCount  PositiveRatio  \n",
       "481                250          0.700  \n",
       "45                 250          0.448  \n",
       "882                250          0.336  \n",
       "307                250          0.184  \n",
       "89                 250          0.760  "
      ]
     },
     "execution_count": 46,
     "metadata": {},
     "output_type": "execute_result"
    }
   ],
   "source": [
    "vocab.sort_values(by='TotalSegmentCount', ascending=False).head()"
   ]
  },
  {
   "cell_type": "code",
   "execution_count": 47,
   "metadata": {},
   "outputs": [
    {
     "data": {
      "text/html": [
       "<div>\n",
       "<style scoped>\n",
       "    .dataframe tbody tr th:only-of-type {\n",
       "        vertical-align: middle;\n",
       "    }\n",
       "\n",
       "    .dataframe tbody tr th {\n",
       "        vertical-align: top;\n",
       "    }\n",
       "\n",
       "    .dataframe thead th {\n",
       "        text-align: right;\n",
       "    }\n",
       "</style>\n",
       "<table border=\"1\" class=\"dataframe\">\n",
       "  <thead>\n",
       "    <tr style=\"text-align: right;\">\n",
       "      <th></th>\n",
       "      <th>Index</th>\n",
       "      <th>KnowledgeGraphId</th>\n",
       "      <th>Name</th>\n",
       "      <th>PositiveSegmentCount</th>\n",
       "      <th>TotalSegmentCount</th>\n",
       "      <th>PositiveRatio</th>\n",
       "    </tr>\n",
       "  </thead>\n",
       "  <tbody>\n",
       "    <tr>\n",
       "      <th>638</th>\n",
       "      <td>1115</td>\n",
       "      <td>/m/042ck</td>\n",
       "      <td>Japanese cuisine</td>\n",
       "      <td>78</td>\n",
       "      <td>155</td>\n",
       "      <td>0.503226</td>\n",
       "    </tr>\n",
       "    <tr>\n",
       "      <th>392</th>\n",
       "      <td>706</td>\n",
       "      <td>/m/04r40</td>\n",
       "      <td>Land Rover</td>\n",
       "      <td>82</td>\n",
       "      <td>160</td>\n",
       "      <td>0.512500</td>\n",
       "    </tr>\n",
       "    <tr>\n",
       "      <th>102</th>\n",
       "      <td>199</td>\n",
       "      <td>/m/017h86</td>\n",
       "      <td>Action figure</td>\n",
       "      <td>123</td>\n",
       "      <td>162</td>\n",
       "      <td>0.759259</td>\n",
       "    </tr>\n",
       "    <tr>\n",
       "      <th>616</th>\n",
       "      <td>1089</td>\n",
       "      <td>/m/0h9627p</td>\n",
       "      <td>Ski-Doo</td>\n",
       "      <td>70</td>\n",
       "      <td>167</td>\n",
       "      <td>0.419162</td>\n",
       "    </tr>\n",
       "    <tr>\n",
       "      <th>58</th>\n",
       "      <td>123</td>\n",
       "      <td>/m/0270h</td>\n",
       "      <td>Dessert</td>\n",
       "      <td>44</td>\n",
       "      <td>169</td>\n",
       "      <td>0.260355</td>\n",
       "    </tr>\n",
       "  </tbody>\n",
       "</table>\n",
       "</div>"
      ],
      "text/plain": [
       "     Index KnowledgeGraphId              Name  PositiveSegmentCount  \\\n",
       "638   1115         /m/042ck  Japanese cuisine                    78   \n",
       "392    706         /m/04r40        Land Rover                    82   \n",
       "102    199        /m/017h86     Action figure                   123   \n",
       "616   1089       /m/0h9627p           Ski-Doo                    70   \n",
       "58     123         /m/0270h           Dessert                    44   \n",
       "\n",
       "     TotalSegmentCount  PositiveRatio  \n",
       "638                155       0.503226  \n",
       "392                160       0.512500  \n",
       "102                162       0.759259  \n",
       "616                167       0.419162  \n",
       "58                 169       0.260355  "
      ]
     },
     "execution_count": 47,
     "metadata": {},
     "output_type": "execute_result"
    }
   ],
   "source": [
    "vocab.sort_values(by='TotalSegmentCount', ascending=True).head()"
   ]
  },
  {
   "cell_type": "code",
   "execution_count": 85,
   "metadata": {},
   "outputs": [
    {
     "name": "stdout",
     "output_type": "stream",
     "text": [
      "Not in competition labels\n",
      "120\n",
      "573\n",
      "757\n",
      "1038\n",
      "1298\n",
      "1429\n",
      "1724\n",
      "1738\n",
      "In competition labels\n",
      "235\n",
      "316\n",
      "469\n",
      "1179\n"
     ]
    }
   ],
   "source": [
    "print('Not in competition labels')\n",
    "for i in Nan_list:\n",
    "    if i not in comp_labels:\n",
    "        print(i)\n",
    "        \n",
    "print('In competition labels')\n",
    "for i in Nan_list:\n",
    "    if i in comp_labels:\n",
    "        print(i)"
   ]
  },
  {
   "cell_type": "code",
   "execution_count": 95,
   "metadata": {},
   "outputs": [
    {
     "data": {
      "text/plain": [
       "<matplotlib.axes._subplots.AxesSubplot at 0x7f92fc0ba550>"
      ]
     },
     "execution_count": 95,
     "metadata": {},
     "output_type": "execute_result"
    },
    {
     "data": {
      "image/png": "[encoded data removed]",
      "text/plain": [
       "<Figure size 432x288 with 1 Axes>"
      ]
     },
     "metadata": {
      "needs_background": "light"
     },
     "output_type": "display_data"
    }
   ],
   "source": [
    "vocab.sort_values(by='TotalSegmentCount', ascending=False).head().plot.bar(x='Name', y='TotalSegmentCount', legend=False)"
   ]
  },
  {
   "cell_type": "code",
   "execution_count": 2,
   "metadata": {},
   "outputs": [
    {
     "data": {
      "text/html": [
       "\n",
       "        <iframe\n",
       "            width=\"400\"\n",
       "            height=\"300\"\n",
       "            src=\"https://www.youtube.com/embed/6bJUbpfnQ\"\n",
       "            frameborder=\"0\"\n",
       "            allowfullscreen\n",
       "        ></iframe>\n",
       "        "
      ],
      "text/plain": [
       "<IPython.lib.display.YouTubeVideo at 0x7fd4baa45b70>"
      ]
     },
     "execution_count": 2,
     "metadata": {},
     "output_type": "execute_result"
    }
   ],
   "source": [
    "YouTubeVideo('6bJUbpfnQ')"
   ]
  },
  {
   "cell_type": "code",
   "execution_count": null,
   "metadata": {},
   "outputs": [],
   "source": []
  }
 ],
 "metadata": {
  "kernelspec": {
   "display_name": "Python 3",
   "language": "python",
   "name": "python3"
  },
  "language_info": {
   "codemirror_mode": {
    "name": "ipython",
    "version": 3
   },
   "file_extension": ".py",
   "mimetype": "text/x-python",
   "name": "python",
   "nbconvert_exporter": "python",
   "pygments_lexer": "ipython3",
   "version": "3.7.3"
  }
 },
 "nbformat": 4,
 "nbformat_minor": 4
}
