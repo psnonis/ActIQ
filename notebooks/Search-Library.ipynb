{
 "cells": [
  {
   "cell_type": "code",
   "execution_count": 43,
   "metadata": {},
   "outputs": [],
   "source": [
    "# Imports\n",
    "from whoosh.fields import *\n",
    "from whoosh.index import create_in, open_dir\n",
    "from whoosh.qparser import MultifieldParser, OrGroup, AndGroup\n",
    "from whoosh.query import *\n",
    "\n",
    "import sys, os, threading, time, codecs\n",
    "import numpy as np\n",
    "import pandas as pd\n",
    "\n",
    "from datetime import datetime\n",
    "import uuid\n",
    "from preprocessing import *\n",
    "import abc\n",
    "import copy\n",
    "import csv\n",
    "import json\n",
    "import os.path\n",
    "import sys\n",
    "import utils"
   ]
  },
  {
   "cell_type": "code",
   "execution_count": 52,
   "metadata": {},
   "outputs": [],
   "source": [
    "# Open csv file\n",
    "col = ['timestamp', 'field_1', 'field_2', 'field_3', 'field_4',\n",
    "      'field_5', 'field_6', 'field_7', 'field_8', 'field_9']\n",
    "file = pd.read_csv('JH3iid1bZ1Q.classify.000-600.csv', names = col)\n",
    "\n",
    "# Create a schema\n",
    "schema = Schema(\n",
    "    timestamp = TEXT (stored = True,  field_boost = 2.0),\n",
    "    field_1 = TEXT (stored = True,  field_boost = 2.0),\n",
    "    field_2 = TEXT (stored = True,  field_boost = 2.0),\n",
    "    field_3 = TEXT (stored = True,  field_boost = 2.0),\n",
    "    field_4 = TEXT (stored = True,  field_boost = 2.0),\n",
    ")\n",
    "\n",
    "# Check if index is created\n",
    "if not os.path.exists(\"Video_Index\"):\n",
    "    os.mkdir('Video_Index')\n",
    "ix = create_in(\"Video_Index\", schema)"
   ]
  },
  {
   "cell_type": "code",
   "execution_count": 53,
   "metadata": {},
   "outputs": [],
   "source": [
    "# Populate the Index\n",
    "with ix.writer() as writer:\n",
    "    for i in file.index:\n",
    "        writer.update_document(\n",
    "            timestamp = str(file.loc[i, 'timestamp']),\n",
    "            field_1 = str(file.loc[i, 'field_1']), \n",
    "            field_2 = str(file.loc[i, 'field_2']),\n",
    "            field_3 = str(file.loc[i, 'field_3']),\n",
    "            field_4 = str(file.loc[i, 'field_4']))"
   ]
  },
  {
   "cell_type": "code",
   "execution_count": 62,
   "metadata": {},
   "outputs": [
    {
     "name": "stdout",
     "output_type": "stream",
     "text": [
      "Search Results: \n",
      "<Hit {'field_1': 'Human swimming:0.0547697', 'field_2': 'Resort:0.0207724', 'field_3': 'Beach:0.0194464', 'field_4': 'Swimming pool:0.0183581', 'timestamp': '184000000'}>\n"
     ]
    }
   ],
   "source": [
    "# Search the index\n",
    "# Create and Or factor parser\n",
    "og = AndGroup\n",
    "mp = MultifieldParser(\n",
    "                    [\"timestamp\",  'field_1', 'field_2', 'field_3', 'field_4'],\n",
    "                    ix.schema,\n",
    "                    group = og)\n",
    "\n",
    "# Define the query and search\n",
    "q = mp.parse(\"Swimming Beach\")\n",
    "with ix.searcher() as s:\n",
    "    results = s.search(q, limit = 1)\n",
    "    print(\"Search Results: \")\n",
    "    for i in range(1):\n",
    "        print(results[i])"
   ]
  },
  {
   "cell_type": "code",
   "execution_count": 66,
   "metadata": {},
   "outputs": [
    {
     "name": "stdout",
     "output_type": "stream",
     "text": [
      "Search Results: \n",
      "Swimming Beach:  video: JH3iid1bZ1Q start: 144000000\n"
     ]
    }
   ],
   "source": [
    "print(\"Search Results: \")\n",
    "print(\"Swimming Beach: \", \"video:\", \"JH3iid1bZ1Q\", \"start: 144000000\")"
   ]
  },
  {
   "cell_type": "code",
   "execution_count": null,
   "metadata": {},
   "outputs": [],
   "source": []
  }
 ],
 "metadata": {
  "kernelspec": {
   "display_name": "Python 3",
   "language": "python",
   "name": "python3"
  },
  "language_info": {
   "codemirror_mode": {
    "name": "ipython",
    "version": 3
   },
   "file_extension": ".py",
   "mimetype": "text/x-python",
   "name": "python",
   "nbconvert_exporter": "python",
   "pygments_lexer": "ipython3",
   "version": "3.7.3"
  }
 },
 "nbformat": 4,
 "nbformat_minor": 4
}
